{
  "nbformat": 4,
  "nbformat_minor": 0,
  "metadata": {
    "colab": {
      "provenance": [],
      "authorship_tag": "ABX9TyON6NbZAAlhRZkn6uRhz3rE",
      "include_colab_link": true
    },
    "kernelspec": {
      "name": "python3",
      "display_name": "Python 3"
    },
    "language_info": {
      "name": "python"
    }
  },
  "cells": [
    {
      "cell_type": "markdown",
      "metadata": {
        "id": "view-in-github",
        "colab_type": "text"
      },
      "source": [
        "<a href=\"https://colab.research.google.com/github/NamasteIndia/pairip-protection-remover/blob/main/Pairip.ipynb\" target=\"_parent\"><img src=\"https://colab.research.google.com/assets/colab-badge.svg\" alt=\"Open In Colab\"/></a>"
      ]
    },
    {
      "cell_type": "code",
      "execution_count": null,
      "metadata": {
        "id": "YLwx2F4Mc2wJ"
      },
      "outputs": [],
      "source": [
        "# Install required dependencies\n",
        "!apt-get update\n",
        "!apt-get install -y openjdk-11-jdk apksigner zipalign\n",
        "!pip install apktool\n",
        "\n",
        "# Clone the GitHub repository\n",
        "!git clone https://github.com/NamasteIndia/pairip-protection-remover.git\n",
        "%cd pairip-protection-remover\n",
        "\n",
        "# Ensure patch.py is executable\n",
        "!chmod +x patch.py\n",
        "\n",
        "# Upload your APK file to Colab\n",
        "from google.colab import files\n",
        "print(\"Please upload the APK file you want to process:\")\n",
        "uploaded = files.upload()\n",
        "\n",
        "# Assuming the uploaded APK is the first file in the uploaded dictionary\n",
        "apk_file = list(uploaded.keys())[0]\n",
        "\n",
        "# Run the patch.py script with the uploaded APK\n",
        "# Replace 'patch.py' with the appropriate command if additional arguments are needed\n",
        "!python patch.py {apk_file}\n",
        "\n",
        "# If the script generates an output APK, download it\n",
        "import os\n",
        "output_apk = \"output.apk\"  # Adjust this based on the actual output file name\n",
        "if os.path.exists(output_apk):\n",
        "    files.download(output_apk)\n",
        "else:\n",
        "    print(\"Output APK not found. Check the script execution for errors.\")"
      ]
    }
  ]
}